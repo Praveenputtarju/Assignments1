{
 "cells": [
  {
   "cell_type": "code",
   "execution_count": 4,
   "metadata": {
    "collapsed": false
   },
   "outputs": [
    {
     "name": "stdout",
     "output_type": "stream",
     "text": [
      "Enter First Name: Praveen\n",
      "Enter Last Name: Puttaraju\n",
      "neevarP ujarattuP\n"
     ]
    }
   ],
   "source": [
    "fname = input(\"Enter First Name: \")\n",
    "lname = input(\"Enter Last Name: \")\n",
    "rvfname = fname[::-1]\n",
    "rvlname = lname[::-1]\n",
    "print(rvfname,rvlname)"
   ]
  },
  {
   "cell_type": "code",
   "execution_count": null,
   "metadata": {
    "collapsed": true
   },
   "outputs": [],
   "source": []
  }
 ],
 "metadata": {
  "kernelspec": {
   "display_name": "Python 3",
   "language": "python",
   "name": "python3"
  },
  "language_info": {
   "codemirror_mode": {
    "name": "ipython",
    "version": 3
   },
   "file_extension": ".py",
   "mimetype": "text/x-python",
   "name": "python",
   "nbconvert_exporter": "python",
   "pygments_lexer": "ipython3",
   "version": "3.6.0"
  }
 },
 "nbformat": 4,
 "nbformat_minor": 2
}
